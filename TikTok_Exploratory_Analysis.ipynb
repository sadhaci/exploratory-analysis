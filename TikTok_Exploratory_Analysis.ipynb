{
  "nbformat": 4,
  "nbformat_minor": 0,
  "metadata": {
    "colab": {
      "name": "TikTok_Exploratory_Analysis.ipynb",
      "provenance": []
    },
    "kernelspec": {
      "name": "python3",
      "display_name": "Python 3"
    },
    "language_info": {
      "name": "python"
    }
  },
  "cells": [
    {
      "cell_type": "markdown",
      "source": [
        "# **TikTok_Exploratory_Analysis**\n",
        "---\n",
        "Create by: Sada\n",
        "\n",
        "### ***Use Case:***\n",
        "In this repo, I will be doing Exploration Data Analysis (EDA) on the from google play store Mobile app reviews for TikTok.\n",
        "\n",
        "### ***Business Understanding***\n",
        "* The dataset can be used to identify key insights related to the app, key problems/issues people have raised.\n",
        "* Perform sentiment analysis of the reviews and find what people are talking about.\n",
        "* Perform topic modeling to identify key topics mentioned in the review over time\n",
        "* Generate visualizations of different worlds / n-grams / topics extracted from the reviews.\n",
        "\n",
        "### ***Data Understanding***\n",
        "* Data Source : 3.5M Tiktok Mobile App Reviews \n",
        "https://www.kaggle.com/shivamb/35-million-tiktok-mobile-app-reviews\n",
        "\n",
        "* 3.5M Tiktok Mobile App Reviews, all the publicly posted reviews are scraped from Tiktok App on Google Play Store\n",
        "* Totl data of 3,646,476 row.\n",
        "* Data of Tiktok Mobile App Review from 11 Agustus 2015 to 22 September 2021\n",
        "* review_id: ID Review of Users.\n",
        "* review_text: A writing/text containing an evaluation or review of a publication.\n",
        "* upvotes: To make comments more popular.\n",
        "* app_version: App version information for the apps user used.\n",
        "* posted_date: The day and time when each review was made.\n",
        "\n",
        "### ***Data Preparation***\n",
        "* Data Used:\n",
        "https://www.kaggle.com/codechick/tiktok-exploratory-analysis/notebook\n",
        "\n",
        "* Programming used: Pyhon\n",
        "* Library/Package used: pandas, seaborn, matlotlib, numpy\n",
        "\n"
      ],
      "metadata": {
        "id": "6kfpjXhwgfx_"
      }
    },
    {
      "cell_type": "code",
      "execution_count": 2,
      "metadata": {
        "id": "zOGKD_A3fRSF"
      },
      "outputs": [],
      "source": [
        "#Import Package\n",
        "\n",
        "import numpy as np\n",
        "import pandas as pd\n",
        "import matplotlib as mpl\n",
        "import matplotlib.pyplot as plt\n",
        "import seaborn as sns"
      ]
    },
    {
      "cell_type": "code",
      "source": [
        "# Connect to Drive \n",
        "\n",
        "from google.colab import drive \n",
        "drive.mount('/content/drive')"
      ],
      "metadata": {
        "colab": {
          "base_uri": "https://localhost:8080/"
        },
        "id": "oL1JmH1Qg1ip",
        "outputId": "5667fc8b-91a9-4c4b-eb60-b3845cf0970a"
      },
      "execution_count": 3,
      "outputs": [
        {
          "output_type": "stream",
          "name": "stdout",
          "text": [
            "Mounted at /content/drive\n"
          ]
        }
      ]
    },
    {
      "cell_type": "code",
      "source": [
        "# Import Dataset\n",
        "\n",
        "data = pd.read_csv('drive/MyDrive/bc-ds-dataset/tiktok_app_reviews.csv')"
      ],
      "metadata": {
        "colab": {
          "base_uri": "https://localhost:8080/"
        },
        "id": "7YO1u4Lgg-GL",
        "outputId": "219f8731-7c60-4431-d189-4f6dc2a63633"
      },
      "execution_count": 73,
      "outputs": [
        {
          "output_type": "stream",
          "name": "stderr",
          "text": [
            "/usr/local/lib/python3.7/dist-packages/IPython/core/interactiveshell.py:2882: DtypeWarning: Columns (3) have mixed types.Specify dtype option on import or set low_memory=False.\n",
            "  exec(code_obj, self.user_global_ns, self.user_ns)\n"
          ]
        }
      ]
    },
    {
      "cell_type": "code",
      "source": [
        "# Show dataset\n",
        "data.head()\n",
        "# df"
      ],
      "metadata": {
        "colab": {
          "base_uri": "https://localhost:8080/",
          "height": 354
        },
        "id": "DrAErxs1dk02",
        "outputId": "c1f2d2f9-bafc-430b-b533-3705639e855a"
      },
      "execution_count": 74,
      "outputs": [
        {
          "output_type": "execute_result",
          "data": {
            "text/html": [
              "\n",
              "  <div id=\"df-ce33ad06-bd0b-4f62-b1b0-74eaa28beff2\">\n",
              "    <div class=\"colab-df-container\">\n",
              "      <div>\n",
              "<style scoped>\n",
              "    .dataframe tbody tr th:only-of-type {\n",
              "        vertical-align: middle;\n",
              "    }\n",
              "\n",
              "    .dataframe tbody tr th {\n",
              "        vertical-align: top;\n",
              "    }\n",
              "\n",
              "    .dataframe thead th {\n",
              "        text-align: right;\n",
              "    }\n",
              "</style>\n",
              "<table border=\"1\" class=\"dataframe\">\n",
              "  <thead>\n",
              "    <tr style=\"text-align: right;\">\n",
              "      <th></th>\n",
              "      <th>review_id</th>\n",
              "      <th>review_text</th>\n",
              "      <th>upvotes</th>\n",
              "      <th>app_version</th>\n",
              "      <th>posted_date</th>\n",
              "    </tr>\n",
              "  </thead>\n",
              "  <tbody>\n",
              "    <tr>\n",
              "      <th>0</th>\n",
              "      <td>gp:AOqpTOGSsGv5rOA79ttW2LE0FeMYvkdUuXRMTfbyMk0...</td>\n",
              "      <td>It is an excellent solution to finding videos ...</td>\n",
              "      <td>402</td>\n",
              "      <td>21.2.5</td>\n",
              "      <td>2021-09-20 07:50:23</td>\n",
              "    </tr>\n",
              "    <tr>\n",
              "      <th>1</th>\n",
              "      <td>gp:AOqpTOEDQ9__FJihY_0V4iwqy4P2OK8tGVR1tFBixYb...</td>\n",
              "      <td>Great app works really well so many features s...</td>\n",
              "      <td>67</td>\n",
              "      <td>21.2.5</td>\n",
              "      <td>2021-09-19 23:10:47</td>\n",
              "    </tr>\n",
              "    <tr>\n",
              "      <th>2</th>\n",
              "      <td>gp:AOqpTOEGEfr8TL0iKTlpbTDeM8P7HywlMmP9CkHMoaT...</td>\n",
              "      <td>I down loaded app but didnt work . i love this...</td>\n",
              "      <td>24</td>\n",
              "      <td>21.2.5</td>\n",
              "      <td>2021-09-19 08:59:34</td>\n",
              "    </tr>\n",
              "    <tr>\n",
              "      <th>3</th>\n",
              "      <td>gp:AOqpTOGZBDl9dpghmb43Mx1tnlWCOjNXyuVn5Mxf49c...</td>\n",
              "      <td>IT A GREAT APP AND FUN TO USE! HOWEVER ARBITRA...</td>\n",
              "      <td>18</td>\n",
              "      <td>21.2.5</td>\n",
              "      <td>2021-09-19 16:34:43</td>\n",
              "    </tr>\n",
              "    <tr>\n",
              "      <th>4</th>\n",
              "      <td>gp:AOqpTOFioH3wud_JnC4aPCG4p7s5DEEN2yZAWNXdRJj...</td>\n",
              "      <td>Currently it's working good for me except a fe...</td>\n",
              "      <td>232</td>\n",
              "      <td>21.1.41</td>\n",
              "      <td>2021-09-14 06:35:02</td>\n",
              "    </tr>\n",
              "  </tbody>\n",
              "</table>\n",
              "</div>\n",
              "      <button class=\"colab-df-convert\" onclick=\"convertToInteractive('df-ce33ad06-bd0b-4f62-b1b0-74eaa28beff2')\"\n",
              "              title=\"Convert this dataframe to an interactive table.\"\n",
              "              style=\"display:none;\">\n",
              "        \n",
              "  <svg xmlns=\"http://www.w3.org/2000/svg\" height=\"24px\"viewBox=\"0 0 24 24\"\n",
              "       width=\"24px\">\n",
              "    <path d=\"M0 0h24v24H0V0z\" fill=\"none\"/>\n",
              "    <path d=\"M18.56 5.44l.94 2.06.94-2.06 2.06-.94-2.06-.94-.94-2.06-.94 2.06-2.06.94zm-11 1L8.5 8.5l.94-2.06 2.06-.94-2.06-.94L8.5 2.5l-.94 2.06-2.06.94zm10 10l.94 2.06.94-2.06 2.06-.94-2.06-.94-.94-2.06-.94 2.06-2.06.94z\"/><path d=\"M17.41 7.96l-1.37-1.37c-.4-.4-.92-.59-1.43-.59-.52 0-1.04.2-1.43.59L10.3 9.45l-7.72 7.72c-.78.78-.78 2.05 0 2.83L4 21.41c.39.39.9.59 1.41.59.51 0 1.02-.2 1.41-.59l7.78-7.78 2.81-2.81c.8-.78.8-2.07 0-2.86zM5.41 20L4 18.59l7.72-7.72 1.47 1.35L5.41 20z\"/>\n",
              "  </svg>\n",
              "      </button>\n",
              "      \n",
              "  <style>\n",
              "    .colab-df-container {\n",
              "      display:flex;\n",
              "      flex-wrap:wrap;\n",
              "      gap: 12px;\n",
              "    }\n",
              "\n",
              "    .colab-df-convert {\n",
              "      background-color: #E8F0FE;\n",
              "      border: none;\n",
              "      border-radius: 50%;\n",
              "      cursor: pointer;\n",
              "      display: none;\n",
              "      fill: #1967D2;\n",
              "      height: 32px;\n",
              "      padding: 0 0 0 0;\n",
              "      width: 32px;\n",
              "    }\n",
              "\n",
              "    .colab-df-convert:hover {\n",
              "      background-color: #E2EBFA;\n",
              "      box-shadow: 0px 1px 2px rgba(60, 64, 67, 0.3), 0px 1px 3px 1px rgba(60, 64, 67, 0.15);\n",
              "      fill: #174EA6;\n",
              "    }\n",
              "\n",
              "    [theme=dark] .colab-df-convert {\n",
              "      background-color: #3B4455;\n",
              "      fill: #D2E3FC;\n",
              "    }\n",
              "\n",
              "    [theme=dark] .colab-df-convert:hover {\n",
              "      background-color: #434B5C;\n",
              "      box-shadow: 0px 1px 3px 1px rgba(0, 0, 0, 0.15);\n",
              "      filter: drop-shadow(0px 1px 2px rgba(0, 0, 0, 0.3));\n",
              "      fill: #FFFFFF;\n",
              "    }\n",
              "  </style>\n",
              "\n",
              "      <script>\n",
              "        const buttonEl =\n",
              "          document.querySelector('#df-ce33ad06-bd0b-4f62-b1b0-74eaa28beff2 button.colab-df-convert');\n",
              "        buttonEl.style.display =\n",
              "          google.colab.kernel.accessAllowed ? 'block' : 'none';\n",
              "\n",
              "        async function convertToInteractive(key) {\n",
              "          const element = document.querySelector('#df-ce33ad06-bd0b-4f62-b1b0-74eaa28beff2');\n",
              "          const dataTable =\n",
              "            await google.colab.kernel.invokeFunction('convertToInteractive',\n",
              "                                                     [key], {});\n",
              "          if (!dataTable) return;\n",
              "\n",
              "          const docLinkHtml = 'Like what you see? Visit the ' +\n",
              "            '<a target=\"_blank\" href=https://colab.research.google.com/notebooks/data_table.ipynb>data table notebook</a>'\n",
              "            + ' to learn more about interactive tables.';\n",
              "          element.innerHTML = '';\n",
              "          dataTable['output_type'] = 'display_data';\n",
              "          await google.colab.output.renderOutput(dataTable, element);\n",
              "          const docLink = document.createElement('div');\n",
              "          docLink.innerHTML = docLinkHtml;\n",
              "          element.appendChild(docLink);\n",
              "        }\n",
              "      </script>\n",
              "    </div>\n",
              "  </div>\n",
              "  "
            ],
            "text/plain": [
              "                                           review_id  ...          posted_date\n",
              "0  gp:AOqpTOGSsGv5rOA79ttW2LE0FeMYvkdUuXRMTfbyMk0...  ...  2021-09-20 07:50:23\n",
              "1  gp:AOqpTOEDQ9__FJihY_0V4iwqy4P2OK8tGVR1tFBixYb...  ...  2021-09-19 23:10:47\n",
              "2  gp:AOqpTOEGEfr8TL0iKTlpbTDeM8P7HywlMmP9CkHMoaT...  ...  2021-09-19 08:59:34\n",
              "3  gp:AOqpTOGZBDl9dpghmb43Mx1tnlWCOjNXyuVn5Mxf49c...  ...  2021-09-19 16:34:43\n",
              "4  gp:AOqpTOFioH3wud_JnC4aPCG4p7s5DEEN2yZAWNXdRJj...  ...  2021-09-14 06:35:02\n",
              "\n",
              "[5 rows x 5 columns]"
            ]
          },
          "metadata": {},
          "execution_count": 74
        }
      ]
    },
    {
      "cell_type": "code",
      "source": [
        "# Check out the dimension of the dataset\n",
        "\n",
        "data.shape"
      ],
      "metadata": {
        "colab": {
          "base_uri": "https://localhost:8080/"
        },
        "id": "qzJbK70sEQo0",
        "outputId": "dd4a78f4-fe6f-4743-c447-592b184e0768"
      },
      "execution_count": 75,
      "outputs": [
        {
          "output_type": "execute_result",
          "data": {
            "text/plain": [
              "(3646476, 5)"
            ]
          },
          "metadata": {},
          "execution_count": 75
        }
      ]
    },
    {
      "cell_type": "code",
      "source": [
        "# Show data column\n",
        "data.columns"
      ],
      "metadata": {
        "colab": {
          "base_uri": "https://localhost:8080/"
        },
        "id": "8Kzz6y_4h6nW",
        "outputId": "08e9c847-bc55-4fac-f4fe-1fd802a4c8b3"
      },
      "execution_count": 16,
      "outputs": [
        {
          "output_type": "execute_result",
          "data": {
            "text/plain": [
              "Index(['review_id', 'review_text', 'upvotes', 'app_version', 'posted_date'], dtype='object')"
            ]
          },
          "metadata": {},
          "execution_count": 16
        }
      ]
    },
    {
      "cell_type": "code",
      "source": [
        "# Look at the data types for each column\n",
        "data.info()\n"
      ],
      "metadata": {
        "colab": {
          "base_uri": "https://localhost:8080/"
        },
        "id": "s2Y7QlxLiEJS",
        "outputId": "8f5599af-bc40-48f5-d8e9-313e8e7cd2f7"
      },
      "execution_count": 29,
      "outputs": [
        {
          "output_type": "stream",
          "name": "stdout",
          "text": [
            "<class 'pandas.core.frame.DataFrame'>\n",
            "RangeIndex: 3646476 entries, 0 to 3646475\n",
            "Data columns (total 5 columns):\n",
            " #   Column       Dtype \n",
            "---  ------       ----- \n",
            " 0   review_id    object\n",
            " 1   review_text  object\n",
            " 2   upvotes      int64 \n",
            " 3   app_version  object\n",
            " 4   posted_date  object\n",
            "dtypes: int64(1), object(4)\n",
            "memory usage: 139.1+ MB\n"
          ]
        }
      ]
    },
    {
      "cell_type": "code",
      "source": [
        "data.describe()"
      ],
      "metadata": {
        "colab": {
          "base_uri": "https://localhost:8080/",
          "height": 278
        },
        "id": "9uoWRq2Ti9yG",
        "outputId": "1198fc6b-2a54-4ee8-9e67-2737799d917b"
      },
      "execution_count": 25,
      "outputs": [
        {
          "output_type": "execute_result",
          "data": {
            "text/html": [
              "\n",
              "  <div id=\"df-94db4136-1731-45d1-a568-e94cb55dcf2f\">\n",
              "    <div class=\"colab-df-container\">\n",
              "      <div>\n",
              "<style scoped>\n",
              "    .dataframe tbody tr th:only-of-type {\n",
              "        vertical-align: middle;\n",
              "    }\n",
              "\n",
              "    .dataframe tbody tr th {\n",
              "        vertical-align: top;\n",
              "    }\n",
              "\n",
              "    .dataframe thead th {\n",
              "        text-align: right;\n",
              "    }\n",
              "</style>\n",
              "<table border=\"1\" class=\"dataframe\">\n",
              "  <thead>\n",
              "    <tr style=\"text-align: right;\">\n",
              "      <th></th>\n",
              "      <th>upvotes</th>\n",
              "    </tr>\n",
              "  </thead>\n",
              "  <tbody>\n",
              "    <tr>\n",
              "      <th>count</th>\n",
              "      <td>3.646476e+06</td>\n",
              "    </tr>\n",
              "    <tr>\n",
              "      <th>mean</th>\n",
              "      <td>6.874999e-01</td>\n",
              "    </tr>\n",
              "    <tr>\n",
              "      <th>std</th>\n",
              "      <td>3.800550e+01</td>\n",
              "    </tr>\n",
              "    <tr>\n",
              "      <th>min</th>\n",
              "      <td>0.000000e+00</td>\n",
              "    </tr>\n",
              "    <tr>\n",
              "      <th>25%</th>\n",
              "      <td>0.000000e+00</td>\n",
              "    </tr>\n",
              "    <tr>\n",
              "      <th>50%</th>\n",
              "      <td>0.000000e+00</td>\n",
              "    </tr>\n",
              "    <tr>\n",
              "      <th>75%</th>\n",
              "      <td>0.000000e+00</td>\n",
              "    </tr>\n",
              "    <tr>\n",
              "      <th>max</th>\n",
              "      <td>2.884200e+04</td>\n",
              "    </tr>\n",
              "  </tbody>\n",
              "</table>\n",
              "</div>\n",
              "      <button class=\"colab-df-convert\" onclick=\"convertToInteractive('df-94db4136-1731-45d1-a568-e94cb55dcf2f')\"\n",
              "              title=\"Convert this dataframe to an interactive table.\"\n",
              "              style=\"display:none;\">\n",
              "        \n",
              "  <svg xmlns=\"http://www.w3.org/2000/svg\" height=\"24px\"viewBox=\"0 0 24 24\"\n",
              "       width=\"24px\">\n",
              "    <path d=\"M0 0h24v24H0V0z\" fill=\"none\"/>\n",
              "    <path d=\"M18.56 5.44l.94 2.06.94-2.06 2.06-.94-2.06-.94-.94-2.06-.94 2.06-2.06.94zm-11 1L8.5 8.5l.94-2.06 2.06-.94-2.06-.94L8.5 2.5l-.94 2.06-2.06.94zm10 10l.94 2.06.94-2.06 2.06-.94-2.06-.94-.94-2.06-.94 2.06-2.06.94z\"/><path d=\"M17.41 7.96l-1.37-1.37c-.4-.4-.92-.59-1.43-.59-.52 0-1.04.2-1.43.59L10.3 9.45l-7.72 7.72c-.78.78-.78 2.05 0 2.83L4 21.41c.39.39.9.59 1.41.59.51 0 1.02-.2 1.41-.59l7.78-7.78 2.81-2.81c.8-.78.8-2.07 0-2.86zM5.41 20L4 18.59l7.72-7.72 1.47 1.35L5.41 20z\"/>\n",
              "  </svg>\n",
              "      </button>\n",
              "      \n",
              "  <style>\n",
              "    .colab-df-container {\n",
              "      display:flex;\n",
              "      flex-wrap:wrap;\n",
              "      gap: 12px;\n",
              "    }\n",
              "\n",
              "    .colab-df-convert {\n",
              "      background-color: #E8F0FE;\n",
              "      border: none;\n",
              "      border-radius: 50%;\n",
              "      cursor: pointer;\n",
              "      display: none;\n",
              "      fill: #1967D2;\n",
              "      height: 32px;\n",
              "      padding: 0 0 0 0;\n",
              "      width: 32px;\n",
              "    }\n",
              "\n",
              "    .colab-df-convert:hover {\n",
              "      background-color: #E2EBFA;\n",
              "      box-shadow: 0px 1px 2px rgba(60, 64, 67, 0.3), 0px 1px 3px 1px rgba(60, 64, 67, 0.15);\n",
              "      fill: #174EA6;\n",
              "    }\n",
              "\n",
              "    [theme=dark] .colab-df-convert {\n",
              "      background-color: #3B4455;\n",
              "      fill: #D2E3FC;\n",
              "    }\n",
              "\n",
              "    [theme=dark] .colab-df-convert:hover {\n",
              "      background-color: #434B5C;\n",
              "      box-shadow: 0px 1px 3px 1px rgba(0, 0, 0, 0.15);\n",
              "      filter: drop-shadow(0px 1px 2px rgba(0, 0, 0, 0.3));\n",
              "      fill: #FFFFFF;\n",
              "    }\n",
              "  </style>\n",
              "\n",
              "      <script>\n",
              "        const buttonEl =\n",
              "          document.querySelector('#df-94db4136-1731-45d1-a568-e94cb55dcf2f button.colab-df-convert');\n",
              "        buttonEl.style.display =\n",
              "          google.colab.kernel.accessAllowed ? 'block' : 'none';\n",
              "\n",
              "        async function convertToInteractive(key) {\n",
              "          const element = document.querySelector('#df-94db4136-1731-45d1-a568-e94cb55dcf2f');\n",
              "          const dataTable =\n",
              "            await google.colab.kernel.invokeFunction('convertToInteractive',\n",
              "                                                     [key], {});\n",
              "          if (!dataTable) return;\n",
              "\n",
              "          const docLinkHtml = 'Like what you see? Visit the ' +\n",
              "            '<a target=\"_blank\" href=https://colab.research.google.com/notebooks/data_table.ipynb>data table notebook</a>'\n",
              "            + ' to learn more about interactive tables.';\n",
              "          element.innerHTML = '';\n",
              "          dataTable['output_type'] = 'display_data';\n",
              "          await google.colab.output.renderOutput(dataTable, element);\n",
              "          const docLink = document.createElement('div');\n",
              "          docLink.innerHTML = docLinkHtml;\n",
              "          element.appendChild(docLink);\n",
              "        }\n",
              "      </script>\n",
              "    </div>\n",
              "  </div>\n",
              "  "
            ],
            "text/plain": [
              "            upvotes\n",
              "count  3.646476e+06\n",
              "mean   6.874999e-01\n",
              "std    3.800550e+01\n",
              "min    0.000000e+00\n",
              "25%    0.000000e+00\n",
              "50%    0.000000e+00\n",
              "75%    0.000000e+00\n",
              "max    2.884200e+04"
            ]
          },
          "metadata": {},
          "execution_count": 25
        }
      ]
    },
    {
      "cell_type": "markdown",
      "source": [
        "* **From 5 columns, only 1 column has an integer data type, namely upvotes**\n",
        "* **The min and max values for Upvotes are min: 0 and max: 28,842. This can represent more popular user reviews.**\n",
        "\n",
        "\n",
        "\n",
        "\n"
      ],
      "metadata": {
        "id": "PJoVVOsujHDh"
      }
    },
    {
      "cell_type": "code",
      "source": [
        "data.nunique()"
      ],
      "metadata": {
        "colab": {
          "base_uri": "https://localhost:8080/"
        },
        "id": "7ZYp-Wr7lHxi",
        "outputId": "4ef344a7-a1f4-42a7-fa4a-272f1e241001"
      },
      "execution_count": 26,
      "outputs": [
        {
          "output_type": "execute_result",
          "data": {
            "text/plain": [
              "review_id      3646473\n",
              "review_text    1937087\n",
              "upvotes           1135\n",
              "app_version        784\n",
              "posted_date    3571810\n",
              "dtype: int64"
            ]
          },
          "metadata": {},
          "execution_count": 26
        }
      ]
    },
    {
      "cell_type": "markdown",
      "source": [
        "### Data Cleaning\n",
        "---"
      ],
      "metadata": {
        "id": "gNL6JYFkihtg"
      }
    },
    {
      "cell_type": "markdown",
      "source": [
        "#### Check Missing Value"
      ],
      "metadata": {
        "id": "iaUO9MWTaVZ4"
      }
    },
    {
      "cell_type": "code",
      "source": [
        "# Knowling number of missing value for each variable\n",
        "data.isnull().sum()\n",
        "\n",
        "# or can use code this\n",
        "# data.isna().sum()"
      ],
      "metadata": {
        "colab": {
          "base_uri": "https://localhost:8080/"
        },
        "id": "jZ1SUys1imXe",
        "outputId": "29723690-c3dc-4678-9125-60ca2fb76e00"
      },
      "execution_count": 138,
      "outputs": [
        {
          "output_type": "execute_result",
          "data": {
            "text/plain": [
              "review_id           0\n",
              "review_text       101\n",
              "upvotes             0\n",
              "app_version    993269\n",
              "posted_date         0\n",
              "dtype: int64"
            ]
          },
          "metadata": {},
          "execution_count": 138
        }
      ]
    },
    {
      "cell_type": "markdown",
      "source": [
        "* **There are about 27.24% missing value of App Version, which is 993.269 rows**\n",
        "* **There are about 0.01% missing value of Review Users, which is 101 rows**\n",
        "* **We need to remove it,because we could't get the user review and the version of the app used.**"
      ],
      "metadata": {
        "id": "0V4S0haWTFKk"
      }
    },
    {
      "cell_type": "code",
      "source": [
        "# Remove missing value of review_text and app_version\n",
        "\n",
        "data['review_text'].fillna('Unknown', inplace=True)\n",
        "data['app_version'].fillna('Unknown', inplace=True)"
      ],
      "metadata": {
        "id": "VdYe5sJKTEbl"
      },
      "execution_count": 139,
      "outputs": []
    },
    {
      "cell_type": "code",
      "source": [
        "# Check again number of missing value for each variable, whether it has been deleted\n",
        "\n",
        "data.isna().sum()"
      ],
      "metadata": {
        "colab": {
          "base_uri": "https://localhost:8080/"
        },
        "id": "Rnb4E_1JZGMT",
        "outputId": "acfe2484-0123-40e9-b332-2657c1f55e18"
      },
      "execution_count": 140,
      "outputs": [
        {
          "output_type": "execute_result",
          "data": {
            "text/plain": [
              "review_id      0\n",
              "review_text    0\n",
              "upvotes        0\n",
              "app_version    0\n",
              "posted_date    0\n",
              "dtype: int64"
            ]
          },
          "metadata": {},
          "execution_count": 140
        }
      ]
    },
    {
      "cell_type": "code",
      "source": [
        "# Check the default structure of posted_date, is it already using datetime64[s]\n",
        "\n",
        "date = pd.to_datetime(data['posted_date'])\n",
        "date"
      ],
      "metadata": {
        "colab": {
          "base_uri": "https://localhost:8080/"
        },
        "id": "fpjHabjoZd_D",
        "outputId": "5ad637f6-5335-4642-8232-676133d6db54"
      },
      "execution_count": 141,
      "outputs": [
        {
          "output_type": "execute_result",
          "data": {
            "text/plain": [
              "0         1970-01-01 00:00:00.000002022\n",
              "1         1970-01-01 00:00:00.000002022\n",
              "2         1970-01-01 00:00:00.000002022\n",
              "3         1970-01-01 00:00:00.000002022\n",
              "4         1970-01-01 00:00:00.000002022\n",
              "                       ...             \n",
              "3646471   1970-01-01 00:00:00.000002022\n",
              "3646472   1970-01-01 00:00:00.000002022\n",
              "3646473   1970-01-01 00:00:00.000002022\n",
              "3646474   1970-01-01 00:00:00.000002022\n",
              "3646475   1970-01-01 00:00:00.000002022\n",
              "Name: posted_date, Length: 3646476, dtype: datetime64[ns]"
            ]
          },
          "metadata": {},
          "execution_count": 141
        }
      ]
    },
    {
      "cell_type": "markdown",
      "source": [
        "#### Check Duplicate Data"
      ],
      "metadata": {
        "id": "XH0r-3CNaEGv"
      }
    },
    {
      "cell_type": "code",
      "source": [
        "data.duplicated().value_counts()"
      ],
      "metadata": {
        "colab": {
          "base_uri": "https://localhost:8080/"
        },
        "id": "6j6ryqvVaJzL",
        "outputId": "2210ebb7-3a2b-415c-d701-f5de27342488"
      },
      "execution_count": 142,
      "outputs": [
        {
          "output_type": "execute_result",
          "data": {
            "text/plain": [
              "False    3646476\n",
              "dtype: int64"
            ]
          },
          "metadata": {},
          "execution_count": 142
        }
      ]
    },
    {
      "cell_type": "markdown",
      "source": [
        "**No duplicate rows**"
      ],
      "metadata": {
        "id": "4THl_2_Valci"
      }
    },
    {
      "cell_type": "markdown",
      "source": [
        "### Data Manipulation\n",
        "---\n",
        "Rename The Column"
      ],
      "metadata": {
        "id": "KRr7Ab8FYICA"
      }
    },
    {
      "cell_type": "code",
      "source": [
        "# data.rename(columns={\n",
        "#     'review_id':'ID Review',\n",
        "#     'review_text':'Review Comments',\n",
        "#     'upvotes':'Upvotes',\n",
        "#     'app_version':'App Version',\n",
        "#     'posted_date':'Date'\n",
        "# }, inplace=True)"
      ],
      "metadata": {
        "id": "QOmBj_fbYVsR"
      },
      "execution_count": 69,
      "outputs": []
    },
    {
      "cell_type": "code",
      "source": [
        "data.columns"
      ],
      "metadata": {
        "colab": {
          "base_uri": "https://localhost:8080/"
        },
        "id": "-WsVVHiga65t",
        "outputId": "f29627c3-e3be-493d-9441-e43dba0f3257"
      },
      "execution_count": 76,
      "outputs": [
        {
          "output_type": "execute_result",
          "data": {
            "text/plain": [
              "Index(['review_id', 'review_text', 'upvotes', 'app_version', 'posted_date'], dtype='object')"
            ]
          },
          "metadata": {},
          "execution_count": 76
        }
      ]
    },
    {
      "cell_type": "code",
      "source": [
        "#timebound\n",
        "\n",
        "print(data[\"posted_date\"].min())\n",
        "print(data[\"posted_date\"].max())"
      ],
      "metadata": {
        "colab": {
          "base_uri": "https://localhost:8080/"
        },
        "id": "kllB2hWQbdcw",
        "outputId": "4d6079bf-1eff-42f0-a400-73e3cf252a56"
      },
      "execution_count": 77,
      "outputs": [
        {
          "output_type": "stream",
          "name": "stdout",
          "text": [
            "2015-07-11 07:37:08\n",
            "2021-09-22 15:04:24\n"
          ]
        }
      ]
    },
    {
      "cell_type": "markdown",
      "source": [
        "**The dataset was taken for 6 years, from 11 August 2015 to 22 September 2021.**"
      ],
      "metadata": {
        "id": "WklyUZw6cI8Q"
      }
    },
    {
      "cell_type": "markdown",
      "source": [
        "### Data Exploratory\n",
        "---"
      ],
      "metadata": {
        "id": "C3sMr9NHbZYE"
      }
    },
    {
      "cell_type": "markdown",
      "source": [
        "#### How many review users every month?"
      ],
      "metadata": {
        "id": "3fwoNKPgcgmT"
      }
    },
    {
      "cell_type": "code",
      "source": [
        "#Aggregating the Reviews by Month\n",
        "\n",
        "# get year from the corresponding\n",
        "# posted_date column value\n",
        "\n",
        "# df['birthdate'].groupby(df.birthdate.dt.to_period(\"M\")).agg('count')\n",
        "\n",
        "# df_agg = data.groupby(\"posted_date\").upvotes.sum()\n",
        "# df_aggYear = pd.DatetimeIndex(data['posted_date']).year\n",
        "# df_aggYear"
      ],
      "metadata": {
        "id": "rZs9ZZ2DcleP"
      },
      "execution_count": 143,
      "outputs": []
    },
    {
      "cell_type": "markdown",
      "source": [
        "#### How many versions of the app are used by the user"
      ],
      "metadata": {
        "id": "_w6Aonu1kYAg"
      }
    },
    {
      "cell_type": "code",
      "source": [
        "df_agg = data.groupby(\"app_version\").upvotes.count()\n",
        "df_agg"
      ],
      "metadata": {
        "colab": {
          "base_uri": "https://localhost:8080/"
        },
        "id": "jWKatzUpkjxj",
        "outputId": "c88a7ce2-e451-4b2f-d1b2-185172b9c040"
      },
      "execution_count": 123,
      "outputs": [
        {
          "output_type": "execute_result",
          "data": {
            "text/plain": [
              "app_version\n",
              "0.8.13          311\n",
              "1.0.0             2\n",
              "1.0.1            36\n",
              "1.0.2             2\n",
              "1.0.3           423\n",
              "1.1.0             1\n",
              "1.1.2           168\n",
              "1.1.3             4\n",
              "1.1.4          1149\n",
              "10.0.1            7\n",
              "10.0.2            4\n",
              "10.0.3            5\n",
              "10.1.0         4102\n",
              "10.1.1         3680\n",
              "10.1.10        9902\n",
              "10.1.5           50\n",
              "10.1.7            1\n",
              "10.1.8            2\n",
              "10.1.9         3591\n",
              "10.2.11           2\n",
              "10.2.6            1\n",
              "10.2.9            1\n",
              "10.3.9            2\n",
              "10.4.0        12642\n",
              "10.4.6            2\n",
              "10.4.8            3\n",
              "10.5.0        21385\n",
              "10.5.9            2\n",
              "10.6.0         2210\n",
              "10.6.10           2\n",
              "10.6.6            1\n",
              "10.6.8            2\n",
              "10.7.0          924\n",
              "10.7.1        14891\n",
              "10.7.6            1\n",
              "10.7.7            1\n",
              "10.7.8            5\n",
              "10.8.0        18830\n",
              "10.8.6            2\n",
              "10.8.9            2\n",
              "10.9.0         2163\n",
              "10.9.9            7\n",
              "11.0.0           92\n",
              "11.0.1          101\n",
              "11.0.2          181\n",
              "11.0.3         9897\n",
              "11.0.8           11\n",
              "11.1.0           80\n",
              "11.1.1           30\n",
              "11.1.2        10854\n",
              "11.1.3         2566\n",
              "11.1.4          212\n",
              "11.1.5        13266\n",
              "11.2.0           89\n",
              "11.2.1          476\n",
              "11.2.2         3189\n",
              "11.2.3        12292\n",
              "11.2.9            3\n",
              "11.3.0          172\n",
              "11.3.1          355\n",
              "11.3.15           2\n",
              "11.3.16           1\n",
              "11.3.2          223\n",
              "11.3.3        12430\n",
              "11.3.8            1\n",
              "11.5.0           83\n",
              "11.5.1          726\n",
              "11.5.15           1\n",
              "11.5.16           3\n",
              "11.5.2          629\n",
              "11.5.3         8895\n",
              "11.6.0           94\n",
              "11.6.1          560\n",
              "11.6.10           2\n",
              "11.6.11           1\n",
              "11.6.15           5\n",
              "11.6.16           1\n",
              "11.6.2          409\n",
              "11.6.3         1006\n",
              "11.6.4        14194\n",
              "11.7.0           90\n",
              "11.7.1         1013\n",
              "11.7.15           3\n",
              "11.7.3          575\n",
              "11.7.4         8778\n",
              "11.8.0           92\n",
              "11.8.1          358\n",
              "11.8.10           2\n",
              "11.8.15           1\n",
              "11.8.16           2\n",
              "11.8.2         1902\n",
              "11.8.3         8896\n",
              "11.9.0          277\n",
              "11.9.1          222\n",
              "11.9.10           5\n",
              "11.9.2          483\n",
              "11.9.3         1661\n",
              "11.9.4         6885\n",
              "11.9.9            1\n",
              "12.0.0           63\n",
              "12.0.1          608\n",
              "12.0.11           1\n",
              "12.0.15           9\n",
              "12.0.16           1\n",
              "12.0.2          313\n",
              "12.0.3        11666\n",
              "12.1.0           65\n",
              "12.1.1          184\n",
              "12.1.15           4\n",
              "12.1.2          344\n",
              "12.1.3         2192\n",
              "12.1.4          873\n",
              "12.1.5         8159\n",
              "12.2.0           30\n",
              "12.2.1          317\n",
              "12.2.15           1\n",
              "12.2.16           1\n",
              "12.2.2          338\n",
              "12.2.3           33\n",
              "12.2.4         9302\n",
              "12.3.0          115\n",
              "12.3.1          164\n",
              "12.3.15           3\n",
              "12.3.2          324\n",
              "12.3.3         2281\n",
              "12.3.4         1703\n",
              "12.3.5         8264\n",
              "12.3.6         3729\n",
              "12.4.0           73\n",
              "12.4.1          350\n",
              "12.4.10           2\n",
              "12.4.2          772\n",
              "12.4.3          345\n",
              "12.4.4          819\n",
              "12.4.5        13503\n",
              "12.5.10           1\n",
              "12.5.15           2\n",
              "12.6.0          133\n",
              "12.6.1          230\n",
              "12.6.15           1\n",
              "12.6.16           2\n",
              "12.6.2          493\n",
              "12.6.3          532\n",
              "12.6.4          626\n",
              "12.6.5        10652\n",
              "12.7.0           39\n",
              "12.7.1          159\n",
              "12.7.16           1\n",
              "12.7.2          920\n",
              "12.7.3         7176\n",
              "12.8.0           72\n",
              "12.8.1          560\n",
              "12.8.15           6\n",
              "12.8.17           6\n",
              "12.8.2          472\n",
              "12.8.3         9423\n",
              "12.9.0           50\n",
              "12.9.1          114\n",
              "12.9.10           2\n",
              "12.9.17           2\n",
              "12.9.2          869\n",
              "12.9.3          457\n",
              "12.9.4         8307\n",
              "13.0.0           52\n",
              "13.0.1          132\n",
              "13.0.11           1\n",
              "13.0.15           7\n",
              "13.0.2          356\n",
              "13.0.3        11777\n",
              "13.1.0          184\n",
              "13.1.1          108\n",
              "13.1.11           9\n",
              "13.1.15           3\n",
              "13.1.2          174\n",
              "13.1.3        13145\n",
              "13.2.0           81\n",
              "13.2.1          144\n",
              "13.2.10           2\n",
              "13.2.11       11932\n",
              "13.2.15           2\n",
              "13.2.16          10\n",
              "13.2.2          183\n",
              "13.2.3          288\n",
              "13.2.4          319\n",
              "13.2.5          513\n",
              "13.2.6          376\n",
              "13.3.0          114\n",
              "13.3.1          105\n",
              "13.3.10           1\n",
              "13.3.11           1\n",
              "13.3.12           2\n",
              "13.3.16           1\n",
              "13.3.17           4\n",
              "13.3.2          643\n",
              "13.3.3        11459\n",
              "13.4.0           61\n",
              "13.4.1          134\n",
              "13.4.15           6\n",
              "13.4.2          190\n",
              "13.4.3          838\n",
              "13.4.4         8982\n",
              "13.5.0           60\n",
              "13.5.1          115\n",
              "13.5.15           1\n",
              "13.5.16           8\n",
              "13.5.2          941\n",
              "13.5.3          633\n",
              "13.5.4        11113\n",
              "13.6.0           29\n",
              "13.6.1          105\n",
              "13.6.11         661\n",
              "13.6.12        9482\n",
              "13.6.16           2\n",
              "13.6.2          260\n",
              "13.6.3          144\n",
              "13.6.4          325\n",
              "13.6.5          423\n",
              "13.6.6          576\n",
              "13.8.0           26\n",
              "13.8.1          119\n",
              "13.8.15           2\n",
              "13.8.16           5\n",
              "13.8.2          170\n",
              "13.8.3          471\n",
              "13.8.4         7750\n",
              "13.9.0          232\n",
              "13.9.1          777\n",
              "13.9.15           2\n",
              "13.9.16          16\n",
              "13.9.2         4789\n",
              "13.9.3        49169\n",
              "13.9.9            2\n",
              "14.0.0          342\n",
              "14.0.1          618\n",
              "14.0.15          16\n",
              "14.0.2         2726\n",
              "14.0.3         1823\n",
              "14.0.4         3925\n",
              "14.0.5        35261\n",
              "14.0.9            1\n",
              "14.1.0          343\n",
              "14.1.1          847\n",
              "14.1.15          14\n",
              "14.1.16           6\n",
              "14.1.2         1100\n",
              "14.1.3         4796\n",
              "14.1.4         1185\n",
              "14.1.5        23951\n",
              "14.1.8            1\n",
              "14.2.0          162\n",
              "14.2.1          418\n",
              "14.2.15           2\n",
              "14.2.16           5\n",
              "14.2.2         2522\n",
              "14.2.3         6000\n",
              "14.2.4        19206\n",
              "14.2.9            1\n",
              "14.3.0          302\n",
              "14.3.1          223\n",
              "14.3.2          338\n",
              "14.3.3         3179\n",
              "14.3.4        27219\n",
              "14.3.7            1\n",
              "14.4.0          152\n",
              "14.4.1          348\n",
              "14.4.11       23316\n",
              "14.4.15           3\n",
              "14.4.16          10\n",
              "14.4.2          438\n",
              "14.4.3         2088\n",
              "14.4.4         3595\n",
              "14.4.5         4716\n",
              "14.4.6         7033\n",
              "14.5.0          815\n",
              "14.5.1          191\n",
              "14.5.11           1\n",
              "14.5.15          14\n",
              "14.5.2         1868\n",
              "14.5.3        19367\n",
              "14.5.9            1\n",
              "14.6.15           9\n",
              "14.7.0          116\n",
              "14.7.1          247\n",
              "14.7.15           1\n",
              "14.7.16           3\n",
              "14.7.2         2651\n",
              "14.7.3         1055\n",
              "14.7.4         1007\n",
              "14.7.5        48582\n",
              "14.8.0          154\n",
              "14.8.1          256\n",
              "14.8.2          457\n",
              "14.8.25           2\n",
              "14.8.27          16\n",
              "14.8.28          10\n",
              "14.8.3         5510\n",
              "14.8.30           6\n",
              "14.8.31          12\n",
              "14.8.4        19695\n",
              "14.8.9            1\n",
              "14.9.0          347\n",
              "14.9.1          441\n",
              "14.9.2         2606\n",
              "14.9.25          10\n",
              "14.9.26           7\n",
              "14.9.27          10\n",
              "14.9.3         7887\n",
              "14.9.4        16378\n",
              "15.0.0          287\n",
              "15.0.1         1944\n",
              "15.0.15          24\n",
              "15.0.2         1094\n",
              "15.0.3        15226\n",
              "15.0.4         2060\n",
              "15.0.9            1\n",
              "15.1.0          150\n",
              "15.1.1          415\n",
              "15.1.15           4\n",
              "15.1.16           4\n",
              "15.1.17          20\n",
              "15.1.2         1456\n",
              "15.1.3        10294\n",
              "15.1.4        30512\n",
              "15.2.1          166\n",
              "15.2.10       14988\n",
              "15.2.2          399\n",
              "15.2.20           8\n",
              "15.2.21          26\n",
              "15.2.3         1710\n",
              "15.2.4         3826\n",
              "15.2.5         4972\n",
              "15.2.6         4246\n",
              "15.2.7         4400\n",
              "15.2.8         4444\n",
              "15.2.9         2077\n",
              "15.3.20           4\n",
              "15.3.21          18\n",
              "15.3.22           3\n",
              "15.3.23           9\n",
              "15.4.1          583\n",
              "15.4.15           4\n",
              "15.4.16           7\n",
              "15.4.17           8\n",
              "15.4.18         245\n",
              "15.4.19          11\n",
              "15.4.2         1121\n",
              "15.4.3        30867\n",
              "15.4.30           2\n",
              "15.5.1          325\n",
              "15.5.15           3\n",
              "15.5.2          844\n",
              "15.5.20          13\n",
              "15.5.22          33\n",
              "15.5.3         4079\n",
              "15.5.4         5459\n",
              "15.5.41         613\n",
              "15.5.42       24804\n",
              "15.5.44       13315\n",
              "15.5.5        20376\n",
              "15.6.20          14\n",
              "15.7.1          250\n",
              "15.7.2          749\n",
              "15.7.20           7\n",
              "15.7.21          14\n",
              "15.7.3         1119\n",
              "15.7.30           2\n",
              "15.7.4         3971\n",
              "15.7.40          13\n",
              "15.7.41         176\n",
              "15.7.42        2321\n",
              "15.7.43        7278\n",
              "15.7.44       24507\n",
              "15.7.45        3634\n",
              "15.7.46       11276\n",
              "15.7.5        26539\n",
              "15.9.1          261\n",
              "15.9.15          10\n",
              "15.9.2         2258\n",
              "15.9.20          21\n",
              "15.9.3         1886\n",
              "15.9.31           1\n",
              "15.9.4         3351\n",
              "15.9.5         8476\n",
              "15.9.6        18062\n",
              "16.0.1          175\n",
              "16.0.15           5\n",
              "16.0.16           8\n",
              "16.0.17          12\n",
              "16.0.2          307\n",
              "16.0.20           8\n",
              "16.0.21           3\n",
              "16.0.22           3\n",
              "16.0.23           3\n",
              "16.0.3          593\n",
              "16.0.4         7278\n",
              "16.0.40           1\n",
              "16.0.41         240\n",
              "16.0.42         939\n",
              "16.0.43        3175\n",
              "16.0.45           1\n",
              "16.0.46           1\n",
              "16.2.1           22\n",
              "16.2.2           63\n",
              "16.2.20           4\n",
              "16.2.21           5\n",
              "16.2.22           5\n",
              "16.2.23           1\n",
              "16.2.3          243\n",
              "16.2.4         5661\n",
              "16.3.1           33\n",
              "16.3.2          124\n",
              "16.3.3          188\n",
              "16.3.30           1\n",
              "16.3.4         1193\n",
              "16.3.5          497\n",
              "16.4.1           40\n",
              "16.4.2          111\n",
              "16.4.20           7\n",
              "16.4.21           3\n",
              "16.4.22           7\n",
              "16.4.23           2\n",
              "16.4.3          287\n",
              "16.4.4          515\n",
              "16.5.1           99\n",
              "16.5.2          148\n",
              "16.5.3         1436\n",
              "16.5.4         8130\n",
              "16.5.5        16288\n",
              "16.6.1           16\n",
              "16.6.2          384\n",
              "16.6.20           3\n",
              "16.6.22           1\n",
              "16.6.23           1\n",
              "16.6.3         1975\n",
              "16.6.4        52416\n",
              "16.6.41          62\n",
              "16.6.42        1514\n",
              "16.6.43       32734\n",
              "16.6.51         551\n",
              "16.6.52       14555\n",
              "16.7.1          188\n",
              "16.7.15          28\n",
              "16.7.2         2352\n",
              "16.7.20          26\n",
              "16.7.3         7190\n",
              "17.2.1          168\n",
              "17.2.15           5\n",
              "17.2.2          591\n",
              "17.2.30           1\n",
              "17.2.4        14094\n",
              "17.3.1          117\n",
              "17.3.2          193\n",
              "17.3.20           3\n",
              "17.3.3         3656\n",
              "17.3.4        30726\n",
              "17.4.1           99\n",
              "17.4.2         2405\n",
              "17.4.20           7\n",
              "17.4.21           6\n",
              "17.4.3          976\n",
              "17.4.4        13194\n",
              "17.5.0            1\n",
              "17.5.1           59\n",
              "17.5.3          640\n",
              "17.5.4          897\n",
              "17.5.42       18997\n",
              "17.5.5         8295\n",
              "17.5.50           6\n",
              "17.6.1          406\n",
              "17.6.20           3\n",
              "17.6.3        14696\n",
              "17.6.41       24650\n",
              "17.7.1           29\n",
              "17.7.15          17\n",
              "17.7.20           3\n",
              "17.7.4          629\n",
              "17.7.41       22455\n",
              "17.7.5         3768\n",
              "17.7.6         6368\n",
              "17.8.15           2\n",
              "17.8.17           5\n",
              "17.8.2          396\n",
              "17.8.4        24445\n",
              "17.9.1          131\n",
              "17.9.15          13\n",
              "17.9.16           2\n",
              "17.9.3          724\n",
              "17.9.5        55886\n",
              "18.0.1          248\n",
              "18.0.15           8\n",
              "18.0.16          11\n",
              "18.0.3          762\n",
              "18.0.5         3164\n",
              "18.1.1          164\n",
              "18.1.15           6\n",
              "18.1.16           5\n",
              "18.1.3        32559\n",
              "18.2.1          254\n",
              "18.2.15           8\n",
              "18.2.2          938\n",
              "18.2.3        18266\n",
              "18.2.41       40400\n",
              "18.3.16           1\n",
              "18.3.17           5\n",
              "18.3.3         1151\n",
              "18.3.6        32107\n",
              "18.4.1          431\n",
              "18.4.15           3\n",
              "18.4.16           1\n",
              "18.4.18           3\n",
              "18.4.3          572\n",
              "18.4.41       20319\n",
              "18.4.5          265\n",
              "18.4.6          561\n",
              "18.4.7         6747\n",
              "18.5.15           1\n",
              "18.5.18           5\n",
              "18.5.19           3\n",
              "18.5.2          154\n",
              "18.5.3          876\n",
              "18.5.4          397\n",
              "18.5.5         1999\n",
              "18.5.6        33310\n",
              "18.6.16           4\n",
              "18.6.2          362\n",
              "18.6.5          793\n",
              "18.6.6        24566\n",
              "18.7.1          302\n",
              "18.7.15           6\n",
              "18.7.3          544\n",
              "18.7.4          361\n",
              "18.7.41        6721\n",
              "18.7.5         9896\n",
              "18.7.55           1\n",
              "18.8.1          109\n",
              "18.8.2           87\n",
              "18.8.3          347\n",
              "18.8.4         2170\n",
              "18.8.41       18021\n",
              "18.8.5         3551\n",
              "18.8.55           1\n",
              "18.8.56           1\n",
              "18.9.1          112\n",
              "18.9.15          12\n",
              "18.9.2          168\n",
              "18.9.3          398\n",
              "18.9.4         1085\n",
              "18.9.5        17566\n",
              "19.0.2          104\n",
              "19.1.1           15\n",
              "19.1.2          121\n",
              "19.1.3        10607\n",
              "19.2.1           36\n",
              "19.2.15           1\n",
              "19.2.16           2\n",
              "19.2.2          156\n",
              "19.2.3          351\n",
              "19.2.4        13800\n",
              "19.2.41       10099\n",
              "19.3.1          329\n",
              "19.3.16           1\n",
              "19.3.17           1\n",
              "19.3.21           1\n",
              "19.3.22           2\n",
              "19.3.3          758\n",
              "19.3.4        13691\n",
              "19.5.1           46\n",
              "19.5.16           1\n",
              "19.5.2          190\n",
              "19.5.3          245\n",
              "19.5.4         6605\n",
              "19.5.41          75\n",
              "19.5.42        8502\n",
              "19.5.43       16398\n",
              "19.5.55           2\n",
              "19.6.1          164\n",
              "19.6.15           1\n",
              "19.6.2          139\n",
              "19.6.4           68\n",
              "19.7.1           42\n",
              "19.7.15           1\n",
              "19.7.17           2\n",
              "19.7.2          392\n",
              "19.7.3         1171\n",
              "19.7.4        11628\n",
              "19.8.2          118\n",
              "19.8.3        12524\n",
              "19.9.1           22\n",
              "19.9.16           1\n",
              "19.9.2          188\n",
              "19.9.3         2336\n",
              "19.9.4        10539\n",
              "20.0.1           90\n",
              "20.0.16           1\n",
              "20.0.2          286\n",
              "20.0.21           1\n",
              "20.0.3          583\n",
              "20.0.30           1\n",
              "20.0.4         3719\n",
              "20.0.5        18482\n",
              "20.1.1           68\n",
              "20.1.15           1\n",
              "20.1.16           1\n",
              "20.1.2         1551\n",
              "20.2.1           86\n",
              "20.2.2          185\n",
              "20.2.3          329\n",
              "20.2.4          519\n",
              "20.2.5        10437\n",
              "20.3.1           86\n",
              "20.3.16           2\n",
              "20.3.2          255\n",
              "20.3.3         5789\n",
              "20.3.41        8456\n",
              "20.4.1           73\n",
              "20.4.2           68\n",
              "20.4.3          460\n",
              "20.4.4         3977\n",
              "20.4.5          861\n",
              "20.4.6         8427\n",
              "20.5.1           39\n",
              "20.5.2          333\n",
              "20.5.3        15537\n",
              "20.6.1          102\n",
              "20.6.16           3\n",
              "20.6.2          206\n",
              "20.6.3          813\n",
              "20.6.4        16709\n",
              "20.7.15           2\n",
              "20.7.2           92\n",
              "20.7.3          290\n",
              "20.7.4          392\n",
              "20.7.5        13379\n",
              "20.8.1          167\n",
              "20.8.15           2\n",
              "20.8.16           1\n",
              "20.8.2           91\n",
              "20.8.3          956\n",
              "20.8.4        14318\n",
              "20.9.1          102\n",
              "20.9.15           2\n",
              "20.9.2         3958\n",
              "20.9.3        14518\n",
              "21.1.2           64\n",
              "21.1.3           84\n",
              "21.1.4          110\n",
              "21.1.41        5606\n",
              "21.1.5          204\n",
              "21.1.6         3382\n",
              "21.2.1          147\n",
              "21.2.15           1\n",
              "21.2.2          719\n",
              "21.2.3          462\n",
              "21.2.4          276\n",
              "21.2.5         4299\n",
              "21.3.1           58\n",
              "21.3.2          243\n",
              "4.10.0          610\n",
              "4.10.1         1364\n",
              "4.10.5         3059\n",
              "4.10.7         2588\n",
              "4.10.8         4170\n",
              "4.11.0         3736\n",
              "4.12.0         2171\n",
              "4.13.0          160\n",
              "4.13.1         1357\n",
              "4.13.2         3578\n",
              "4.13.3            8\n",
              "4.13.5         1785\n",
              "4.13.6         3895\n",
              "4.14.0         3298\n",
              "4.15.0         1110\n",
              "4.15.1         4803\n",
              "4.15.2        18438\n",
              "4.4.0          1137\n",
              "4.4.5           123\n",
              "4.4.6           300\n",
              "4.4.7            67\n",
              "4.4.8           136\n",
              "4.4.9           993\n",
              "4.5               2\n",
              "4.5.1             4\n",
              "4.5.2          3724\n",
              "4.6.0             1\n",
              "4.6.1             1\n",
              "4.6.2            40\n",
              "4.6.3          1805\n",
              "4.6.5          1087\n",
              "4.6.6           715\n",
              "4.6.7          4864\n",
              "4.7.0          1579\n",
              "4.7.5          5737\n",
              "4.7.6          2015\n",
              "4.7.7          2512\n",
              "4.8.0          4021\n",
              "4.8.2          1815\n",
              "4.8.3             2\n",
              "4.8.4          3504\n",
              "4.8.5          8391\n",
              "4.9.0         11697\n",
              "5.0.0          2103\n",
              "5.0.1          1977\n",
              "5.0.2          1889\n",
              "5.0.3          3905\n",
              "5.1.0          5008\n",
              "5.2.0          2353\n",
              "5.2.1          4019\n",
              "5.3.0          4722\n",
              "5.3.1            80\n",
              "5.3.2          4410\n",
              "5.3.3          4811\n",
              "5.4.0          5728\n",
              "5.5.0          6623\n",
              "5.6.0          5004\n",
              "5.6.1_beta        5\n",
              "5.7.0          2737\n",
              "5.7.1          6460\n",
              "5.7.3          3916\n",
              "5.7.4          6568\n",
              "5.8.1          5576\n",
              "5.8.2          4040\n",
              "6.0.0          4856\n",
              "6.1.0          1436\n",
              "6.1.5          3616\n",
              "6.2.0          5849\n",
              "6.3.0          6657\n",
              "6.3.5            62\n",
              "6.3.6          5100\n",
              "6.4.0          2348\n",
              "6.5.0          2171\n",
              "6.6.0          5895\n",
              "6.7.0          2652\n",
              "6.8.0          2965\n",
              "6.9.0         15584\n",
              "7.0.0           438\n",
              "7.0.1            48\n",
              "7.0.2            53\n",
              "7.0.3           497\n",
              "7.0.4          1002\n",
              "7.0.5          2705\n",
              "7.1.0          2021\n",
              "7.2.0          3972\n",
              "7.3.0          5474\n",
              "7.4.0          8326\n",
              "7.5.0          2473\n",
              "7.5.1          9363\n",
              "7.6.0         11189\n",
              "7.7.0         16425\n",
              "7.8.0           600\n",
              "8.0.0          5841\n",
              "8.1.0          8867\n",
              "8.2.0          9620\n",
              "8.3.0             6\n",
              "8.3.1          7512\n",
              "8.4.0         11621\n",
              "8.5.0         11359\n",
              "8.6.0         14437\n",
              "8.7.0          6346\n",
              "8.7.2         13515\n",
              "8.8.0         10091\n",
              "9.0.0         11787\n",
              "9.1.0         22995\n",
              "9.2.0            66\n",
              "9.3.0         11670\n",
              "9.4.0         14275\n",
              "9.5.0          2244\n",
              "9.6.0          8222\n",
              "9.7.0         14700\n",
              "9.7.2             2\n",
              "9.7.4             1\n",
              "9.8.0         11325\n",
              "9.9.0         38734\n",
              "9.9.1             6\n",
              "9.9.5          9272\n",
              "v0.8.10         117\n",
              "v0.8.11         122\n",
              "v0.8.2           36\n",
              "v0.8.3            1\n",
              "v0.8.4           12\n",
              "v0.8.5           17\n",
              "v0.8.6           36\n",
              "v0.8.7           97\n",
              "v0.8.8          124\n",
              "v0.8.9            5\n",
              "Name: upvotes, dtype: int64"
            ]
          },
          "metadata": {},
          "execution_count": 123
        }
      ]
    },
    {
      "cell_type": "code",
      "source": [
        "sns.boxplot( y = df_agg )"
      ],
      "metadata": {
        "colab": {
          "base_uri": "https://localhost:8080/",
          "height": 269
        },
        "id": "VeCXG46BlAA4",
        "outputId": "1017fcae-c6a0-42a4-f184-031250c7106c"
      },
      "execution_count": 122,
      "outputs": [
        {
          "output_type": "execute_result",
          "data": {
            "text/plain": [
              "<matplotlib.axes._subplots.AxesSubplot at 0x7f30e397b1d0>"
            ]
          },
          "metadata": {},
          "execution_count": 122
        },
        {
          "output_type": "display_data",
          "data": {
            "image/png": "[encoded data removed]",
            "text/plain": [
              "<Figure size 432x288 with 1 Axes>"
            ]
          },
          "metadata": {
            "needs_background": "light"
          }
        }
      ]
    },
    {
      "cell_type": "code",
      "source": [
        "# df_agg = data.groupby(\"app_version\").upvotes.count()\n",
        "# df_agg\n",
        "\n",
        "\n",
        "\n",
        "sq1=data.groupby('app_version')['upvotes'].nunique().sort_values(ascending=False).reset_index()\n",
        "plt.figure(figsize=(20,15))\n",
        "sq1.drop([0],inplace=True)\n",
        "sns.barplot(data=sq1, x=\"app_version\", y=\"upvotes\", palette = \"Greens_d\");"
      ],
      "metadata": {
        "colab": {
          "base_uri": "https://localhost:8080/",
          "height": 673
        },
        "id": "lvkm286ulAFc",
        "outputId": "9d241437-25a9-4f2f-dda8-a5ef58564404"
      },
      "execution_count": 137,
      "outputs": [
        {
          "output_type": "display_data",
          "data": {
            "image/png": "[encoded data removed]",
            "text/plain": [
              "<Figure size 1440x1080 with 1 Axes>"
            ]
          },
          "metadata": {
            "needs_background": "light"
          }
        }
      ]
    },
    {
      "cell_type": "code",
      "source": [
        ""
      ],
      "metadata": {
        "id": "dKvus3QZlAH8"
      },
      "execution_count": null,
      "outputs": []
    },
    {
      "cell_type": "code",
      "source": [
        ""
      ],
      "metadata": {
        "id": "FuE9Xy_VlAKh"
      },
      "execution_count": null,
      "outputs": []
    },
    {
      "cell_type": "code",
      "source": [
        ""
      ],
      "metadata": {
        "id": "RbjAwxI4lANJ"
      },
      "execution_count": null,
      "outputs": []
    },
    {
      "cell_type": "code",
      "source": [
        ""
      ],
      "metadata": {
        "id": "lQbK62y0lAPe"
      },
      "execution_count": null,
      "outputs": []
    },
    {
      "cell_type": "code",
      "source": [
        ""
      ],
      "metadata": {
        "id": "x0SvicVjlARo"
      },
      "execution_count": null,
      "outputs": []
    }
  ]
}